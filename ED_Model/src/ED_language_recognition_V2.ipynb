{
 "cells": [
  {
   "cell_type": "markdown",
   "id": "4668f5f7",
   "metadata": {},
   "source": [
    "1.) Installing requirements"
   ]
  },
  {
   "cell_type": "code",
   "execution_count": null,
   "id": "61993472",
   "metadata": {},
   "outputs": [
    {
     "name": "stdout",
     "output_type": "stream",
     "text": [
      "c:\\Users\\franc\\anaconda3\\envs\\nlp-project\\python.exe\n"
     ]
    }
   ],
   "source": [
    "import sys; print(sys.executable) #verifying path of Python Interpreter\n"
   ]
  },
  {
   "cell_type": "code",
   "execution_count": 2,
   "id": "8e78859b",
   "metadata": {},
   "outputs": [
    {
     "name": "stdout",
     "output_type": "stream",
     "text": [
      "c:\\Users\\franc\\anaconda3\\envs\\nlp-project\\python.exe\n",
      "torch: 2.3.1\n",
      "sklearn: 1.7.1\n",
      "transformers: 4.55.2\n"
     ]
    }
   ],
   "source": [
    "import sys, torch, sklearn, transformers\n",
    "print(sys.executable)                 # should show ...\\envs\\nlp-project\\python.exe\n",
    "print(\"torch:\", torch.__version__)\n",
    "print(\"sklearn:\", sklearn.__version__)\n",
    "print(\"transformers:\", transformers.__version__)\n"
   ]
  },
  {
   "cell_type": "code",
   "execution_count": null,
   "id": "72d6c904",
   "metadata": {},
   "outputs": [
    {
     "name": "stdout",
     "output_type": "stream",
     "text": [
      "Requirement already satisfied: transformers in c:\\users\\franc\\anaconda3\\envs\\nlp-project\\lib\\site-packages (4.55.2)\n",
      "Requirement already satisfied: filelock in c:\\users\\franc\\anaconda3\\envs\\nlp-project\\lib\\site-packages (from transformers) (3.17.0)\n",
      "Requirement already satisfied: huggingface-hub<1.0,>=0.34.0 in c:\\users\\franc\\anaconda3\\envs\\nlp-project\\lib\\site-packages (from transformers) (0.34.4)\n",
      "Requirement already satisfied: numpy>=1.17 in c:\\users\\franc\\anaconda3\\envs\\nlp-project\\lib\\site-packages (from transformers) (2.2.6)\n",
      "Requirement already satisfied: packaging>=20.0 in c:\\users\\franc\\anaconda3\\envs\\nlp-project\\lib\\site-packages (from transformers) (25.0)\n",
      "Requirement already satisfied: pyyaml>=5.1 in c:\\users\\franc\\anaconda3\\envs\\nlp-project\\lib\\site-packages (from transformers) (6.0.2)\n",
      "Requirement already satisfied: regex!=2019.12.17 in c:\\users\\franc\\anaconda3\\envs\\nlp-project\\lib\\site-packages (from transformers) (2025.7.34)\n",
      "Requirement already satisfied: requests in c:\\users\\franc\\anaconda3\\envs\\nlp-project\\lib\\site-packages (from transformers) (2.32.4)\n",
      "Requirement already satisfied: tokenizers<0.22,>=0.21 in c:\\users\\franc\\anaconda3\\envs\\nlp-project\\lib\\site-packages (from transformers) (0.21.4)\n",
      "Requirement already satisfied: safetensors>=0.4.3 in c:\\users\\franc\\anaconda3\\envs\\nlp-project\\lib\\site-packages (from transformers) (0.6.2)\n",
      "Requirement already satisfied: tqdm>=4.27 in c:\\users\\franc\\anaconda3\\envs\\nlp-project\\lib\\site-packages (from transformers) (4.67.1)\n",
      "Requirement already satisfied: fsspec>=2023.5.0 in c:\\users\\franc\\anaconda3\\envs\\nlp-project\\lib\\site-packages (from huggingface-hub<1.0,>=0.34.0->transformers) (2025.3.0)\n",
      "Requirement already satisfied: typing-extensions>=3.7.4.3 in c:\\users\\franc\\anaconda3\\envs\\nlp-project\\lib\\site-packages (from huggingface-hub<1.0,>=0.34.0->transformers) (4.14.1)\n",
      "Requirement already satisfied: colorama in c:\\users\\franc\\anaconda3\\envs\\nlp-project\\lib\\site-packages (from tqdm>=4.27->transformers) (0.4.6)\n",
      "Requirement already satisfied: charset_normalizer<4,>=2 in c:\\users\\franc\\anaconda3\\envs\\nlp-project\\lib\\site-packages (from requests->transformers) (3.4.3)\n",
      "Requirement already satisfied: idna<4,>=2.5 in c:\\users\\franc\\anaconda3\\envs\\nlp-project\\lib\\site-packages (from requests->transformers) (3.10)\n",
      "Requirement already satisfied: urllib3<3,>=1.21.1 in c:\\users\\franc\\anaconda3\\envs\\nlp-project\\lib\\site-packages (from requests->transformers) (2.5.0)\n",
      "Requirement already satisfied: certifi>=2017.4.17 in c:\\users\\franc\\anaconda3\\envs\\nlp-project\\lib\\site-packages (from requests->transformers) (2025.8.3)\n"
     ]
    }
   ],
   "source": [
    "!pip install transformers #import model and tokenizer library\n"
   ]
  },
  {
   "cell_type": "code",
   "execution_count": null,
   "id": "5ed1bc2f",
   "metadata": {},
   "outputs": [
    {
     "name": "stdout",
     "output_type": "stream",
     "text": [
      "Requirement already satisfied: datasets in c:\\users\\franc\\anaconda3\\envs\\nlp-project\\lib\\site-packages (3.6.0)\n",
      "Requirement already satisfied: filelock in c:\\users\\franc\\anaconda3\\envs\\nlp-project\\lib\\site-packages (from datasets) (3.17.0)\n",
      "Requirement already satisfied: numpy>=1.17 in c:\\users\\franc\\anaconda3\\envs\\nlp-project\\lib\\site-packages (from datasets) (2.2.6)\n",
      "Requirement already satisfied: pyarrow>=15.0.0 in c:\\users\\franc\\anaconda3\\envs\\nlp-project\\lib\\site-packages (from datasets) (21.0.0)\n",
      "Requirement already satisfied: dill<0.3.9,>=0.3.0 in c:\\users\\franc\\anaconda3\\envs\\nlp-project\\lib\\site-packages (from datasets) (0.3.8)\n",
      "Requirement already satisfied: pandas in c:\\users\\franc\\anaconda3\\envs\\nlp-project\\lib\\site-packages (from datasets) (2.3.1)\n",
      "Requirement already satisfied: requests>=2.32.2 in c:\\users\\franc\\anaconda3\\envs\\nlp-project\\lib\\site-packages (from datasets) (2.32.4)\n",
      "Requirement already satisfied: tqdm>=4.66.3 in c:\\users\\franc\\anaconda3\\envs\\nlp-project\\lib\\site-packages (from datasets) (4.67.1)\n",
      "Requirement already satisfied: xxhash in c:\\users\\franc\\anaconda3\\envs\\nlp-project\\lib\\site-packages (from datasets) (3.5.0)\n",
      "Requirement already satisfied: multiprocess<0.70.17 in c:\\users\\franc\\anaconda3\\envs\\nlp-project\\lib\\site-packages (from datasets) (0.70.16)\n",
      "Requirement already satisfied: fsspec<=2025.3.0,>=2023.1.0 in c:\\users\\franc\\anaconda3\\envs\\nlp-project\\lib\\site-packages (from fsspec[http]<=2025.3.0,>=2023.1.0->datasets) (2025.3.0)\n",
      "Requirement already satisfied: huggingface-hub>=0.24.0 in c:\\users\\franc\\anaconda3\\envs\\nlp-project\\lib\\site-packages (from datasets) (0.34.4)\n",
      "Requirement already satisfied: packaging in c:\\users\\franc\\anaconda3\\envs\\nlp-project\\lib\\site-packages (from datasets) (25.0)\n",
      "Requirement already satisfied: pyyaml>=5.1 in c:\\users\\franc\\anaconda3\\envs\\nlp-project\\lib\\site-packages (from datasets) (6.0.2)\n",
      "Requirement already satisfied: aiohttp!=4.0.0a0,!=4.0.0a1 in c:\\users\\franc\\anaconda3\\envs\\nlp-project\\lib\\site-packages (from fsspec[http]<=2025.3.0,>=2023.1.0->datasets) (3.12.15)\n",
      "Requirement already satisfied: aiohappyeyeballs>=2.5.0 in c:\\users\\franc\\anaconda3\\envs\\nlp-project\\lib\\site-packages (from aiohttp!=4.0.0a0,!=4.0.0a1->fsspec[http]<=2025.3.0,>=2023.1.0->datasets) (2.6.1)\n",
      "Requirement already satisfied: aiosignal>=1.4.0 in c:\\users\\franc\\anaconda3\\envs\\nlp-project\\lib\\site-packages (from aiohttp!=4.0.0a0,!=4.0.0a1->fsspec[http]<=2025.3.0,>=2023.1.0->datasets) (1.4.0)\n",
      "Requirement already satisfied: async-timeout<6.0,>=4.0 in c:\\users\\franc\\anaconda3\\envs\\nlp-project\\lib\\site-packages (from aiohttp!=4.0.0a0,!=4.0.0a1->fsspec[http]<=2025.3.0,>=2023.1.0->datasets) (5.0.1)\n",
      "Requirement already satisfied: attrs>=17.3.0 in c:\\users\\franc\\anaconda3\\envs\\nlp-project\\lib\\site-packages (from aiohttp!=4.0.0a0,!=4.0.0a1->fsspec[http]<=2025.3.0,>=2023.1.0->datasets) (25.3.0)\n",
      "Requirement already satisfied: frozenlist>=1.1.1 in c:\\users\\franc\\anaconda3\\envs\\nlp-project\\lib\\site-packages (from aiohttp!=4.0.0a0,!=4.0.0a1->fsspec[http]<=2025.3.0,>=2023.1.0->datasets) (1.7.0)\n",
      "Requirement already satisfied: multidict<7.0,>=4.5 in c:\\users\\franc\\anaconda3\\envs\\nlp-project\\lib\\site-packages (from aiohttp!=4.0.0a0,!=4.0.0a1->fsspec[http]<=2025.3.0,>=2023.1.0->datasets) (6.6.3)\n",
      "Requirement already satisfied: propcache>=0.2.0 in c:\\users\\franc\\anaconda3\\envs\\nlp-project\\lib\\site-packages (from aiohttp!=4.0.0a0,!=4.0.0a1->fsspec[http]<=2025.3.0,>=2023.1.0->datasets) (0.3.1)\n",
      "Requirement already satisfied: yarl<2.0,>=1.17.0 in c:\\users\\franc\\anaconda3\\envs\\nlp-project\\lib\\site-packages (from aiohttp!=4.0.0a0,!=4.0.0a1->fsspec[http]<=2025.3.0,>=2023.1.0->datasets) (1.20.1)\n",
      "Requirement already satisfied: typing-extensions>=4.1.0 in c:\\users\\franc\\anaconda3\\envs\\nlp-project\\lib\\site-packages (from multidict<7.0,>=4.5->aiohttp!=4.0.0a0,!=4.0.0a1->fsspec[http]<=2025.3.0,>=2023.1.0->datasets) (4.14.1)\n",
      "Requirement already satisfied: idna>=2.0 in c:\\users\\franc\\anaconda3\\envs\\nlp-project\\lib\\site-packages (from yarl<2.0,>=1.17.0->aiohttp!=4.0.0a0,!=4.0.0a1->fsspec[http]<=2025.3.0,>=2023.1.0->datasets) (3.10)\n",
      "Requirement already satisfied: charset_normalizer<4,>=2 in c:\\users\\franc\\anaconda3\\envs\\nlp-project\\lib\\site-packages (from requests>=2.32.2->datasets) (3.4.3)\n",
      "Requirement already satisfied: urllib3<3,>=1.21.1 in c:\\users\\franc\\anaconda3\\envs\\nlp-project\\lib\\site-packages (from requests>=2.32.2->datasets) (2.5.0)\n",
      "Requirement already satisfied: certifi>=2017.4.17 in c:\\users\\franc\\anaconda3\\envs\\nlp-project\\lib\\site-packages (from requests>=2.32.2->datasets) (2025.8.3)\n",
      "Requirement already satisfied: colorama in c:\\users\\franc\\anaconda3\\envs\\nlp-project\\lib\\site-packages (from tqdm>=4.66.3->datasets) (0.4.6)\n",
      "Requirement already satisfied: python-dateutil>=2.8.2 in c:\\users\\franc\\anaconda3\\envs\\nlp-project\\lib\\site-packages (from pandas->datasets) (2.9.0.post0)\n",
      "Requirement already satisfied: pytz>=2020.1 in c:\\users\\franc\\anaconda3\\envs\\nlp-project\\lib\\site-packages (from pandas->datasets) (2025.2)\n",
      "Requirement already satisfied: tzdata>=2022.7 in c:\\users\\franc\\anaconda3\\envs\\nlp-project\\lib\\site-packages (from pandas->datasets) (2025.2)\n",
      "Requirement already satisfied: six>=1.5 in c:\\users\\franc\\anaconda3\\envs\\nlp-project\\lib\\site-packages (from python-dateutil>=2.8.2->pandas->datasets) (1.17.0)\n"
     ]
    }
   ],
   "source": [
    "!pip install datasets #import dataset handling"
   ]
  },
  {
   "cell_type": "code",
   "execution_count": 5,
   "id": "fe7bc869",
   "metadata": {},
   "outputs": [
    {
     "name": "stdout",
     "output_type": "stream",
     "text": [
      "Requirement already satisfied: pandas in c:\\users\\franc\\anaconda3\\envs\\nlp-project\\lib\\site-packages (2.3.1)\n",
      "Requirement already satisfied: numpy>=1.22.4 in c:\\users\\franc\\anaconda3\\envs\\nlp-project\\lib\\site-packages (from pandas) (2.2.6)\n",
      "Requirement already satisfied: python-dateutil>=2.8.2 in c:\\users\\franc\\anaconda3\\envs\\nlp-project\\lib\\site-packages (from pandas) (2.9.0.post0)\n",
      "Requirement already satisfied: pytz>=2020.1 in c:\\users\\franc\\anaconda3\\envs\\nlp-project\\lib\\site-packages (from pandas) (2025.2)\n",
      "Requirement already satisfied: tzdata>=2022.7 in c:\\users\\franc\\anaconda3\\envs\\nlp-project\\lib\\site-packages (from pandas) (2025.2)\n",
      "Requirement already satisfied: six>=1.5 in c:\\users\\franc\\anaconda3\\envs\\nlp-project\\lib\\site-packages (from python-dateutil>=2.8.2->pandas) (1.17.0)\n"
     ]
    }
   ],
   "source": [
    "!pip install --upgrade pandas"
   ]
  },
  {
   "cell_type": "code",
   "execution_count": null,
   "id": "7683304d",
   "metadata": {},
   "outputs": [
    {
     "name": "stdout",
     "output_type": "stream",
     "text": [
      "Requirement already satisfied: evaluate in c:\\users\\franc\\anaconda3\\envs\\nlp-project\\lib\\site-packages (0.4.5)\n",
      "Requirement already satisfied: datasets>=2.0.0 in c:\\users\\franc\\anaconda3\\envs\\nlp-project\\lib\\site-packages (from evaluate) (3.6.0)\n",
      "Requirement already satisfied: numpy>=1.17 in c:\\users\\franc\\anaconda3\\envs\\nlp-project\\lib\\site-packages (from evaluate) (2.2.6)\n",
      "Requirement already satisfied: dill in c:\\users\\franc\\anaconda3\\envs\\nlp-project\\lib\\site-packages (from evaluate) (0.3.8)\n",
      "Requirement already satisfied: pandas in c:\\users\\franc\\anaconda3\\envs\\nlp-project\\lib\\site-packages (from evaluate) (2.3.1)\n",
      "Requirement already satisfied: requests>=2.19.0 in c:\\users\\franc\\anaconda3\\envs\\nlp-project\\lib\\site-packages (from evaluate) (2.32.4)\n",
      "Requirement already satisfied: tqdm>=4.62.1 in c:\\users\\franc\\anaconda3\\envs\\nlp-project\\lib\\site-packages (from evaluate) (4.67.1)\n",
      "Requirement already satisfied: xxhash in c:\\users\\franc\\anaconda3\\envs\\nlp-project\\lib\\site-packages (from evaluate) (3.5.0)\n",
      "Requirement already satisfied: multiprocess in c:\\users\\franc\\anaconda3\\envs\\nlp-project\\lib\\site-packages (from evaluate) (0.70.16)\n",
      "Requirement already satisfied: fsspec>=2021.05.0 in c:\\users\\franc\\anaconda3\\envs\\nlp-project\\lib\\site-packages (from fsspec[http]>=2021.05.0->evaluate) (2025.3.0)\n",
      "Requirement already satisfied: huggingface-hub>=0.7.0 in c:\\users\\franc\\anaconda3\\envs\\nlp-project\\lib\\site-packages (from evaluate) (0.34.4)\n",
      "Requirement already satisfied: packaging in c:\\users\\franc\\anaconda3\\envs\\nlp-project\\lib\\site-packages (from evaluate) (25.0)\n",
      "Requirement already satisfied: filelock in c:\\users\\franc\\anaconda3\\envs\\nlp-project\\lib\\site-packages (from datasets>=2.0.0->evaluate) (3.17.0)\n",
      "Requirement already satisfied: pyarrow>=15.0.0 in c:\\users\\franc\\anaconda3\\envs\\nlp-project\\lib\\site-packages (from datasets>=2.0.0->evaluate) (21.0.0)\n",
      "Requirement already satisfied: pyyaml>=5.1 in c:\\users\\franc\\anaconda3\\envs\\nlp-project\\lib\\site-packages (from datasets>=2.0.0->evaluate) (6.0.2)\n",
      "Requirement already satisfied: aiohttp!=4.0.0a0,!=4.0.0a1 in c:\\users\\franc\\anaconda3\\envs\\nlp-project\\lib\\site-packages (from fsspec[http]>=2021.05.0->evaluate) (3.12.15)\n",
      "Requirement already satisfied: aiohappyeyeballs>=2.5.0 in c:\\users\\franc\\anaconda3\\envs\\nlp-project\\lib\\site-packages (from aiohttp!=4.0.0a0,!=4.0.0a1->fsspec[http]>=2021.05.0->evaluate) (2.6.1)\n",
      "Requirement already satisfied: aiosignal>=1.4.0 in c:\\users\\franc\\anaconda3\\envs\\nlp-project\\lib\\site-packages (from aiohttp!=4.0.0a0,!=4.0.0a1->fsspec[http]>=2021.05.0->evaluate) (1.4.0)\n",
      "Requirement already satisfied: async-timeout<6.0,>=4.0 in c:\\users\\franc\\anaconda3\\envs\\nlp-project\\lib\\site-packages (from aiohttp!=4.0.0a0,!=4.0.0a1->fsspec[http]>=2021.05.0->evaluate) (5.0.1)\n",
      "Requirement already satisfied: attrs>=17.3.0 in c:\\users\\franc\\anaconda3\\envs\\nlp-project\\lib\\site-packages (from aiohttp!=4.0.0a0,!=4.0.0a1->fsspec[http]>=2021.05.0->evaluate) (25.3.0)\n",
      "Requirement already satisfied: frozenlist>=1.1.1 in c:\\users\\franc\\anaconda3\\envs\\nlp-project\\lib\\site-packages (from aiohttp!=4.0.0a0,!=4.0.0a1->fsspec[http]>=2021.05.0->evaluate) (1.7.0)\n",
      "Requirement already satisfied: multidict<7.0,>=4.5 in c:\\users\\franc\\anaconda3\\envs\\nlp-project\\lib\\site-packages (from aiohttp!=4.0.0a0,!=4.0.0a1->fsspec[http]>=2021.05.0->evaluate) (6.6.3)\n",
      "Requirement already satisfied: propcache>=0.2.0 in c:\\users\\franc\\anaconda3\\envs\\nlp-project\\lib\\site-packages (from aiohttp!=4.0.0a0,!=4.0.0a1->fsspec[http]>=2021.05.0->evaluate) (0.3.1)\n",
      "Requirement already satisfied: yarl<2.0,>=1.17.0 in c:\\users\\franc\\anaconda3\\envs\\nlp-project\\lib\\site-packages (from aiohttp!=4.0.0a0,!=4.0.0a1->fsspec[http]>=2021.05.0->evaluate) (1.20.1)\n",
      "Requirement already satisfied: typing-extensions>=4.1.0 in c:\\users\\franc\\anaconda3\\envs\\nlp-project\\lib\\site-packages (from multidict<7.0,>=4.5->aiohttp!=4.0.0a0,!=4.0.0a1->fsspec[http]>=2021.05.0->evaluate) (4.14.1)\n",
      "Requirement already satisfied: idna>=2.0 in c:\\users\\franc\\anaconda3\\envs\\nlp-project\\lib\\site-packages (from yarl<2.0,>=1.17.0->aiohttp!=4.0.0a0,!=4.0.0a1->fsspec[http]>=2021.05.0->evaluate) (3.10)\n",
      "Requirement already satisfied: charset_normalizer<4,>=2 in c:\\users\\franc\\anaconda3\\envs\\nlp-project\\lib\\site-packages (from requests>=2.19.0->evaluate) (3.4.3)\n",
      "Requirement already satisfied: urllib3<3,>=1.21.1 in c:\\users\\franc\\anaconda3\\envs\\nlp-project\\lib\\site-packages (from requests>=2.19.0->evaluate) (2.5.0)\n",
      "Requirement already satisfied: certifi>=2017.4.17 in c:\\users\\franc\\anaconda3\\envs\\nlp-project\\lib\\site-packages (from requests>=2.19.0->evaluate) (2025.8.3)\n",
      "Requirement already satisfied: colorama in c:\\users\\franc\\anaconda3\\envs\\nlp-project\\lib\\site-packages (from tqdm>=4.62.1->evaluate) (0.4.6)\n",
      "Requirement already satisfied: python-dateutil>=2.8.2 in c:\\users\\franc\\anaconda3\\envs\\nlp-project\\lib\\site-packages (from pandas->evaluate) (2.9.0.post0)\n",
      "Requirement already satisfied: pytz>=2020.1 in c:\\users\\franc\\anaconda3\\envs\\nlp-project\\lib\\site-packages (from pandas->evaluate) (2025.2)\n",
      "Requirement already satisfied: tzdata>=2022.7 in c:\\users\\franc\\anaconda3\\envs\\nlp-project\\lib\\site-packages (from pandas->evaluate) (2025.2)\n",
      "Requirement already satisfied: six>=1.5 in c:\\users\\franc\\anaconda3\\envs\\nlp-project\\lib\\site-packages (from python-dateutil>=2.8.2->pandas->evaluate) (1.17.0)\n"
     ]
    }
   ],
   "source": [
    "! pip install evaluate #import metrics package used with Hugging Face to evaluate model"
   ]
  },
  {
   "cell_type": "code",
   "execution_count": null,
   "id": "e1952fca",
   "metadata": {},
   "outputs": [],
   "source": [
    "##Configs\n",
    "#make so that any changes to the data set or model can be done here\n",
    "data_path = \"data.csv\" #@param {type:\"string\"} parametrize the dataset path so if the dataset changes, I just have to update here\n",
    "text_column_name = \"text\" #@param {type:\"string\"}\n",
    "label_column_name = \"label\" #@param {type:\"string\"}\n",
    "\n",
    "model_name = \"distilbert-base-uncased\" #@param {type:\"string\"} using distilBert model from hugging face library for binary classification\n",
    "test_size = 0.2 #@param {type:\"number\"} reserve 20% data for test\n",
    "num_labels = 2 #@param {type:\"number\"} telling model how many classes i have"
   ]
  },
  {
   "cell_type": "markdown",
   "id": "4ef9def6",
   "metadata": {},
   "source": [
    "2.) Read and Prepare the dataset"
   ]
  },
  {
   "cell_type": "code",
   "execution_count": null,
   "id": "c049b76b",
   "metadata": {},
   "outputs": [],
   "source": [
    "#core data and math imports\n",
    "import numpy as np\n",
    "import pandas as pd\n",
    "import matplotlib.pyplot as plt\n"
   ]
  },
  {
   "cell_type": "code",
   "execution_count": null,
   "id": "6eadf1be",
   "metadata": {},
   "outputs": [
    {
     "data": {
      "text/html": [
       "<div>\n",
       "<style scoped>\n",
       "    .dataframe tbody tr th:only-of-type {\n",
       "        vertical-align: middle;\n",
       "    }\n",
       "\n",
       "    .dataframe tbody tr th {\n",
       "        vertical-align: top;\n",
       "    }\n",
       "\n",
       "    .dataframe thead th {\n",
       "        text-align: right;\n",
       "    }\n",
       "</style>\n",
       "<table border=\"1\" class=\"dataframe\">\n",
       "  <thead>\n",
       "    <tr style=\"text-align: right;\">\n",
       "      <th></th>\n",
       "      <th>id</th>\n",
       "      <th>label</th>\n",
       "      <th>text</th>\n",
       "    </tr>\n",
       "  </thead>\n",
       "  <tbody>\n",
       "    <tr>\n",
       "      <th>0</th>\n",
       "      <td>1_0</td>\n",
       "      <td>0</td>\n",
       "      <td>find out more here</td>\n",
       "    </tr>\n",
       "    <tr>\n",
       "      <th>1</th>\n",
       "      <td>2_0</td>\n",
       "      <td>0</td>\n",
       "      <td>i had a long battle with anorexia</td>\n",
       "    </tr>\n",
       "    <tr>\n",
       "      <th>2</th>\n",
       "      <td>3_0</td>\n",
       "      <td>0</td>\n",
       "      <td>those thoughts telling me that if i just lost...</td>\n",
       "    </tr>\n",
       "    <tr>\n",
       "      <th>3</th>\n",
       "      <td>4_0</td>\n",
       "      <td>0</td>\n",
       "      <td>the trouble is that never happened</td>\n",
       "    </tr>\n",
       "    <tr>\n",
       "      <th>4</th>\n",
       "      <td>5_0</td>\n",
       "      <td>0</td>\n",
       "      <td>there was never a magic number</td>\n",
       "    </tr>\n",
       "  </tbody>\n",
       "</table>\n",
       "</div>"
      ],
      "text/plain": [
       "    id  label                                               text\n",
       "0  1_0      0                                 find out more here\n",
       "1  2_0      0                  i had a long battle with anorexia\n",
       "2  3_0      0   those thoughts telling me that if i just lost...\n",
       "3  4_0      0                 the trouble is that never happened\n",
       "4  5_0      0                     there was never a magic number"
      ]
     },
     "execution_count": 9,
     "metadata": {},
     "output_type": "execute_result"
    }
   ],
   "source": [
    "df = pd.read_csv(\"data.csv\") #load csv into pandas df\n",
    "df.head()"
   ]
  },
  {
   "cell_type": "code",
   "execution_count": 10,
   "id": "1f098886",
   "metadata": {},
   "outputs": [
    {
     "name": "stdout",
     "output_type": "stream",
     "text": [
      "label\n",
      "1    2135\n",
      "0    1234\n",
      "Name: count, dtype: int64\n"
     ]
    }
   ],
   "source": [
    "# Count occurrences of each label\n",
    "label_counts = df['label'].value_counts()\n",
    "\n",
    "print(label_counts)\n"
   ]
  },
  {
   "cell_type": "code",
   "execution_count": null,
   "id": "5bfa86a1",
   "metadata": {},
   "outputs": [
    {
     "data": {
      "text/html": [
       "<div>\n",
       "<style scoped>\n",
       "    .dataframe tbody tr th:only-of-type {\n",
       "        vertical-align: middle;\n",
       "    }\n",
       "\n",
       "    .dataframe tbody tr th {\n",
       "        vertical-align: top;\n",
       "    }\n",
       "\n",
       "    .dataframe thead th {\n",
       "        text-align: right;\n",
       "    }\n",
       "</style>\n",
       "<table border=\"1\" class=\"dataframe\">\n",
       "  <thead>\n",
       "    <tr style=\"text-align: right;\">\n",
       "      <th></th>\n",
       "      <th>id</th>\n",
       "      <th>label</th>\n",
       "      <th>text</th>\n",
       "    </tr>\n",
       "  </thead>\n",
       "  <tbody>\n",
       "    <tr>\n",
       "      <th>0</th>\n",
       "      <td>1972_1</td>\n",
       "      <td>1</td>\n",
       "      <td>never drink more than two gallons of water a day</td>\n",
       "    </tr>\n",
       "    <tr>\n",
       "      <th>1</th>\n",
       "      <td>950_0</td>\n",
       "      <td>0</td>\n",
       "      <td>additionally, if you're currently in a positi...</td>\n",
       "    </tr>\n",
       "    <tr>\n",
       "      <th>2</th>\n",
       "      <td>1226_1</td>\n",
       "      <td>1</td>\n",
       "      <td>5 avoid oil and butter3</td>\n",
       "    </tr>\n",
       "    <tr>\n",
       "      <th>3</th>\n",
       "      <td>140_0</td>\n",
       "      <td>0</td>\n",
       "      <td>your information has been submitted</td>\n",
       "    </tr>\n",
       "    <tr>\n",
       "      <th>4</th>\n",
       "      <td>300_0</td>\n",
       "      <td>0</td>\n",
       "      <td>you may be used to skipping meals or fasting ...</td>\n",
       "    </tr>\n",
       "  </tbody>\n",
       "</table>\n",
       "</div>"
      ],
      "text/plain": [
       "       id  label                                               text\n",
       "0  1972_1      1   never drink more than two gallons of water a day\n",
       "1   950_0      0   additionally, if you're currently in a positi...\n",
       "2  1226_1      1                            5 avoid oil and butter3\n",
       "3   140_0      0                your information has been submitted\n",
       "4   300_0      0   you may be used to skipping meals or fasting ..."
      ]
     },
     "execution_count": 11,
     "metadata": {},
     "output_type": "execute_result"
    }
   ],
   "source": [
    "# Shuffle the entire dataframe for an even distribution of 0s and 1s for training and testing\n",
    "df = df.sample(frac=1, random_state=42).reset_index(drop=True)\n",
    "df.head()"
   ]
  },
  {
   "cell_type": "code",
   "execution_count": 12,
   "id": "5569c4d9",
   "metadata": {},
   "outputs": [],
   "source": [
    "from sklearn.model_selection import train_test_split"
   ]
  },
  {
   "cell_type": "code",
   "execution_count": null,
   "id": "fe76f3f6",
   "metadata": {},
   "outputs": [],
   "source": [
    "df_train,df_test = train_test_split(df,test_size=test_size) #splitting df into 80% train and 20% split"
   ]
  },
  {
   "cell_type": "code",
   "execution_count": null,
   "id": "67aad9cd",
   "metadata": {},
   "outputs": [],
   "source": [
    "##Convert to hugging face dataset\n",
    "from datasets import Dataset\n",
    "#making the df compatible w hugging face tools\n",
    "train_dataset = Dataset.from_pandas(df_train)\n",
    "test_dataset = Dataset.from_pandas(df_test)"
   ]
  },
  {
   "cell_type": "code",
   "execution_count": null,
   "id": "df8f401a",
   "metadata": {},
   "outputs": [],
   "source": [
    "##Tokenize the text (mapping chunk of text to number so that model can understand)\n",
    "from transformers import AutoTokenizer #turns raw text into token IDS so that model can understand"
   ]
  },
  {
   "cell_type": "code",
   "execution_count": null,
   "id": "16b61abd",
   "metadata": {},
   "outputs": [],
   "source": [
    "tokenizer = AutoTokenizer.from_pretrained(model_name) #fetching the correct tokenizer that matches with DistilBERT model\n",
    "\n",
    "def preprocess_function(examples): #function that returns the text as tokens\n",
    "    return tokenizer(examples[\"text\"], truncation=True)"
   ]
  },
  {
   "cell_type": "code",
   "execution_count": null,
   "id": "405a418f",
   "metadata": {},
   "outputs": [
    {
     "data": {
      "application/vnd.jupyter.widget-view+json": {
       "model_id": "c91312f13f534e0ab63676ba022d697f",
       "version_major": 2,
       "version_minor": 0
      },
      "text/plain": [
       "Map:   0%|          | 0/2695 [00:00<?, ? examples/s]"
      ]
     },
     "metadata": {},
     "output_type": "display_data"
    }
   ],
   "source": [
    "tokenized_train = train_dataset.map(preprocess_function, batched=True) #applying tokenizing \"Preprocess\" function in batches"
   ]
  },
  {
   "cell_type": "code",
   "execution_count": null,
   "id": "f01c1094",
   "metadata": {},
   "outputs": [
    {
     "data": {
      "application/vnd.jupyter.widget-view+json": {
       "model_id": "d87cdd37ecd9430abb1714bf9d391a36",
       "version_major": 2,
       "version_minor": 0
      },
      "text/plain": [
       "Map:   0%|          | 0/674 [00:00<?, ? examples/s]"
      ]
     },
     "metadata": {},
     "output_type": "display_data"
    }
   ],
   "source": [
    "tokenized_test = test_dataset.map(preprocess_function, batched=True) #applying tokenizing function to test batch\n"
   ]
  },
  {
   "cell_type": "code",
   "execution_count": 19,
   "id": "41db9baa",
   "metadata": {},
   "outputs": [
    {
     "name": "stdout",
     "output_type": "stream",
     "text": [
      "2.3.1\n",
      "False\n"
     ]
    }
   ],
   "source": [
    "import torch\n",
    "print(torch.__version__)\n",
    "print(torch.cuda.is_available())  # should be False for CPU-only, that's fine\n"
   ]
  },
  {
   "cell_type": "markdown",
   "id": "9681a373",
   "metadata": {},
   "source": [
    "3.) Initialize the model"
   ]
  },
  {
   "cell_type": "code",
   "execution_count": 20,
   "id": "cbe4b36d",
   "metadata": {},
   "outputs": [],
   "source": [
    "##Initializing model\n",
    "import transformers\n",
    "from transformers import AutoModelForSequenceClassification\n",
    "from transformers import DataCollatorWithPadding\n",
    "from transformers import TrainingArguments, Trainer\n",
    "import evaluate\n",
    "import numpy as np"
   ]
  },
  {
   "cell_type": "code",
   "execution_count": null,
   "id": "6ef9f42c",
   "metadata": {},
   "outputs": [
    {
     "name": "stderr",
     "output_type": "stream",
     "text": [
      "Some weights of DistilBertForSequenceClassification were not initialized from the model checkpoint at distilbert-base-uncased and are newly initialized: ['classifier.bias', 'classifier.weight', 'pre_classifier.bias', 'pre_classifier.weight']\n",
      "You should probably TRAIN this model on a down-stream task to be able to use it for predictions and inference.\n"
     ]
    }
   ],
   "source": [
    "##load AutoModelForSequenceClassification which is a pretrained DistilBERT model with a classification head configured for binary classification.\n",
    "#allows for fine-tuning a model instead of training from scratch\n",
    "model = AutoModelForSequenceClassification.from_pretrained(model_name, num_labels=2)"
   ]
  },
  {
   "cell_type": "markdown",
   "id": "bb1d90f0",
   "metadata": {},
   "source": [
    "4.) Training the model"
   ]
  },
  {
   "cell_type": "code",
   "execution_count": null,
   "id": "11737f3f",
   "metadata": {},
   "outputs": [],
   "source": [
    "#Training the model\n",
    "data_collator = DataCollatorWithPadding(tokenizer=tokenizer) #assembles/formats data for training"
   ]
  },
  {
   "cell_type": "code",
   "execution_count": null,
   "id": "b8b70d09",
   "metadata": {},
   "outputs": [],
   "source": [
    "metric = evaluate.load(\"accuracy\") #using accuracy metric from HF to evaluate\n",
    "\n",
    "def compute_metrics(eval_pred):\n",
    "    logits, labels = eval_pred\n",
    "    predictions = np.argmax(logits, axis=-1)\n",
    "    return metric.compute(predictions=predictions, references=labels)"
   ]
  },
  {
   "cell_type": "code",
   "execution_count": null,
   "id": "732b9158",
   "metadata": {},
   "outputs": [
    {
     "name": "stderr",
     "output_type": "stream",
     "text": [
      "C:\\Users\\franc\\AppData\\Local\\Temp\\ipykernel_2592\\3541624526.py:12: FutureWarning: `tokenizer` is deprecated and will be removed in version 5.0.0 for `Trainer.__init__`. Use `processing_class` instead.\n",
      "  trainer = Trainer(\n"
     ]
    }
   ],
   "source": [
    "training_args = TrainingArguments(\n",
    "    output_dir=\"./results\", #Directory path where model checkpoints, logs, and training artifacts are saved\n",
    "    learning_rate=2e-4, #Step size for gradient descent optimization; controls how much model weights are updated each iteration\n",
    "    per_device_train_batch_size=8, #Number of training samples processed together in one forward/backward pass before updating weights\n",
    "    per_device_eval_batch_size=8, \n",
    "    num_train_epochs=5, #Complete passes through the entire training dataset (iterations)\n",
    "    weight_decay=0.01,  #L2 regularization parameter that penalizes large weights to prevent overfitting\n",
    "    logging_strategy=\"epoch\",\n",
    "    report_to=\"none\",\n",
    ")\n",
    "\n",
    "trainer = Trainer(\n",
    "    model=model,\n",
    "    args=training_args,\n",
    "    train_dataset=tokenized_train,\n",
    "    eval_dataset=tokenized_test,\n",
    "    tokenizer=tokenizer,\n",
    "    data_collator=data_collator,\n",
    "    compute_metrics=compute_metrics\n",
    "\n",
    ")\n"
   ]
  },
  {
   "cell_type": "code",
   "execution_count": 25,
   "id": "223dbc0f",
   "metadata": {},
   "outputs": [
    {
     "data": {
      "text/html": [
       "\n",
       "    <div>\n",
       "      \n",
       "      <progress value='1685' max='1685' style='width:300px; height:20px; vertical-align: middle;'></progress>\n",
       "      [1685/1685 1:01:01, Epoch 5/5]\n",
       "    </div>\n",
       "    <table border=\"1\" class=\"dataframe\">\n",
       "  <thead>\n",
       " <tr style=\"text-align: left;\">\n",
       "      <th>Step</th>\n",
       "      <th>Training Loss</th>\n",
       "    </tr>\n",
       "  </thead>\n",
       "  <tbody>\n",
       "    <tr>\n",
       "      <td>337</td>\n",
       "      <td>0.526200</td>\n",
       "    </tr>\n",
       "    <tr>\n",
       "      <td>674</td>\n",
       "      <td>0.444500</td>\n",
       "    </tr>\n",
       "    <tr>\n",
       "      <td>1011</td>\n",
       "      <td>0.396600</td>\n",
       "    </tr>\n",
       "    <tr>\n",
       "      <td>1348</td>\n",
       "      <td>0.276800</td>\n",
       "    </tr>\n",
       "    <tr>\n",
       "      <td>1685</td>\n",
       "      <td>0.200100</td>\n",
       "    </tr>\n",
       "  </tbody>\n",
       "</table><p>"
      ],
      "text/plain": [
       "<IPython.core.display.HTML object>"
      ]
     },
     "metadata": {},
     "output_type": "display_data"
    },
    {
     "data": {
      "text/plain": [
       "TrainOutput(global_step=1685, training_loss=0.36885829665186853, metrics={'train_runtime': 3665.6991, 'train_samples_per_second': 3.676, 'train_steps_per_second': 0.46, 'total_flos': 159896688115596.0, 'train_loss': 0.36885829665186853, 'epoch': 5.0})"
      ]
     },
     "execution_count": 25,
     "metadata": {},
     "output_type": "execute_result"
    }
   ],
   "source": [
    "trainer.train()"
   ]
  },
  {
   "cell_type": "code",
   "execution_count": 30,
   "id": "377df9a2",
   "metadata": {},
   "outputs": [],
   "source": [
    "#saving the model\n",
    "trainer.save_model('ED_model')"
   ]
  },
  {
   "cell_type": "markdown",
   "id": "a2de5e61",
   "metadata": {},
   "source": [
    "5.) Evaluate the model's performance"
   ]
  },
  {
   "cell_type": "code",
   "execution_count": null,
   "id": "ac4161ba",
   "metadata": {},
   "outputs": [],
   "source": [
    "#Evaluate model performance\n",
    "from sklearn.metrics import classification_report #Imports scikit-learn’s function that prints precision, recall, f1-score, and support"
   ]
  },
  {
   "cell_type": "code",
   "execution_count": null,
   "id": "f64be930",
   "metadata": {},
   "outputs": [
    {
     "data": {
      "text/html": [],
      "text/plain": [
       "<IPython.core.display.HTML object>"
      ]
     },
     "metadata": {},
     "output_type": "display_data"
    },
    {
     "name": "stdout",
     "output_type": "stream",
     "text": [
      "              precision    recall  f1-score   support\n",
      "\n",
      "           0       0.96      0.93      0.95       993\n",
      "           1       0.96      0.98      0.97      1702\n",
      "\n",
      "    accuracy                           0.96      2695\n",
      "   macro avg       0.96      0.95      0.96      2695\n",
      "weighted avg       0.96      0.96      0.96      2695\n",
      "\n"
     ]
    }
   ],
   "source": [
    "#evaluating performance on training data to test for overfitting\n",
    "preds = trainer.predict(tokenized_train)\n",
    "preds = np.argmax(preds[:3][0],axis=1)\n",
    "GT = df_train['label'].tolist() #Extracts the ground-truth labels from your original training DataFrame as a list\n",
    "print(classification_report(GT,preds))"
   ]
  },
  {
   "cell_type": "markdown",
   "id": "1e2b6efb",
   "metadata": {},
   "source": []
  },
  {
   "cell_type": "code",
   "execution_count": null,
   "id": "eb087ae4",
   "metadata": {},
   "outputs": [
    {
     "data": {
      "text/html": [],
      "text/plain": [
       "<IPython.core.display.HTML object>"
      ]
     },
     "metadata": {},
     "output_type": "display_data"
    },
    {
     "name": "stdout",
     "output_type": "stream",
     "text": [
      "              precision    recall  f1-score   support\n",
      "\n",
      "           0       0.80      0.83      0.82       241\n",
      "           1       0.91      0.89      0.90       433\n",
      "\n",
      "    accuracy                           0.87       674\n",
      "   macro avg       0.85      0.86      0.86       674\n",
      "weighted avg       0.87      0.87      0.87       674\n",
      "\n"
     ]
    }
   ],
   "source": [
    "#evaluating model performance on test data (data never seen by model before)\n",
    "preds = trainer.predict(tokenized_test)\n",
    "preds = np.argmax(preds[:3][0],axis=1) #preds[:3][1]\n",
    "GT = df_test['label'].tolist()\n",
    "print(classification_report(GT,preds))"
   ]
  },
  {
   "cell_type": "code",
   "execution_count": null,
   "id": "ce5ceeae",
   "metadata": {},
   "outputs": [],
   "source": [
    "#when comparing model performance to test data\n",
    "#Precision score for class 1 was 0.91- means model flagged pro-ana text 91% of the time\n",
    "#Recall score for class 1 was 0.89- means almost 9/10 times, the model catches pro-ana text\n",
    "#f1 score that balances precision and recall\n",
    "#support means that out of the training data, there were x amt of 0s classified, or x amt of 1s classified"
   ]
  },
  {
   "cell_type": "code",
   "execution_count": 32,
   "id": "0105ce55",
   "metadata": {},
   "outputs": [
    {
     "data": {
      "text/html": [],
      "text/plain": [
       "<IPython.core.display.HTML object>"
      ]
     },
     "metadata": {},
     "output_type": "display_data"
    },
    {
     "data": {
      "image/png": "[encoded data removed]",
      "text/plain": [
       "<Figure size 700x500 with 1 Axes>"
      ]
     },
     "metadata": {},
     "output_type": "display_data"
    }
   ],
   "source": [
    "import matplotlib.pyplot as plt\n",
    "from sklearn.metrics import precision_recall_curve, average_precision_score\n",
    "from scipy.special import softmax\n",
    "import numpy as np\n",
    "\n",
    "# 1) Get raw predictions (logits) on the test set\n",
    "output = trainer.predict(tokenized_test)\n",
    "logits = output.predictions\n",
    "labels = output.label_ids\n",
    "\n",
    "# 2) Convert logits → probabilities for class 1 (pro-ana)\n",
    "probs = softmax(logits, axis=1)[:, 1]\n",
    "\n",
    "# 3) Compute precision–recall curve\n",
    "precision, recall, thresholds = precision_recall_curve(labels, probs)\n",
    "avg_prec = average_precision_score(labels, probs)\n",
    "\n",
    "# 4) Plot\n",
    "plt.figure(figsize=(7,5))\n",
    "plt.plot(recall, precision, label=f\"PR curve (AP={avg_prec:.2f})\")\n",
    "plt.xlabel(\"Recall\")\n",
    "plt.ylabel(\"Precision\")\n",
    "plt.title(\"Precision–Recall Curve (class 1: pro-ana)\")\n",
    "plt.legend()\n",
    "plt.grid(True)\n",
    "plt.show()\n"
   ]
  }
 ],
 "metadata": {
  "kernelspec": {
   "display_name": "nlp-project",
   "language": "python",
   "name": "python3"
  },
  "language_info": {
   "codemirror_mode": {
    "name": "ipython",
    "version": 3
   },
   "file_extension": ".py",
   "mimetype": "text/x-python",
   "name": "python",
   "nbconvert_exporter": "python",
   "pygments_lexer": "ipython3",
   "version": "3.10.18"
  }
 },
 "nbformat": 4,
 "nbformat_minor": 5
}
